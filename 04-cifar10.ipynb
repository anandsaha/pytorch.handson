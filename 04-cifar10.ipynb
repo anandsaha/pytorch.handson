{
 "cells": [
  {
   "cell_type": "markdown",
   "metadata": {},
   "source": [
    "### Classifying the CIFAR10 dataset here"
   ]
  },
  {
   "cell_type": "code",
   "execution_count": 1,
   "metadata": {
    "collapsed": true
   },
   "outputs": [],
   "source": [
    "import torch\n",
    "import torch.nn as nn\n",
    "import torch.autograd as autograd\n",
    "import torchvision\n",
    "import torchvision.transforms as transforms\n",
    "import matplotlib.pyplot as plt\n",
    "import numpy as np\n",
    "import torch.optim as optim\n",
    "import matplotlib.pyplot as plt\n",
    "\n",
    "%matplotlib inline"
   ]
  },
  {
   "cell_type": "markdown",
   "metadata": {},
   "source": [
    "### Get the data"
   ]
  },
  {
   "cell_type": "code",
   "execution_count": 2,
   "metadata": {},
   "outputs": [
    {
     "name": "stdout",
     "output_type": "stream",
     "text": [
      "Files already downloaded and verified\n",
      "Files already downloaded and verified\n"
     ]
    }
   ],
   "source": [
    "t1 = transforms.ToTensor()\n",
    "t2 = transforms.Normalize((0.5, 0.5, 0.5), (0.5, 0.5, 0.5))\n",
    "trans = transforms.Compose([t1, t2])\n",
    "\n",
    "# Train \n",
    "trainset = torchvision.datasets.CIFAR10(root='/home/as/datasets/cifar10', \n",
    "                                        train=True, download=True, transform=trans)\n",
    "trainloader = torch.utils.data.DataLoader(trainset, batch_size=4, shuffle=True, \n",
    "                                          num_workers=2)\n",
    "\n",
    "# Test\n",
    "testset = torchvision.datasets.CIFAR10(root='/home/as/datasets/cifar10', \n",
    "                                        train=False, download=True, transform=trans)\n",
    "testloader = torch.utils.data.DataLoader(trainset, batch_size=4, shuffle=True, \n",
    "                                          num_workers=2)\n"
   ]
  },
  {
   "cell_type": "code",
   "execution_count": 3,
   "metadata": {
    "collapsed": true
   },
   "outputs": [],
   "source": [
    "classes = ('plane', 'car', 'bird', 'cat', 'deer', 'dog', 'frog', 'horse', 'ship', 'truck')"
   ]
  },
  {
   "cell_type": "markdown",
   "metadata": {},
   "source": [
    "### See the images"
   ]
  },
  {
   "cell_type": "code",
   "execution_count": 4,
   "metadata": {},
   "outputs": [
    {
     "name": "stdout",
     "output_type": "stream",
     "text": [
      " frog   car  bird horse\n"
     ]
    },
    {
     "data": {
      "image/png": "[encoded data removed]",
      "text/plain": [
       "<matplotlib.figure.Figure at 0x7f907331e0b8>"
      ]
     },
     "metadata": {},
     "output_type": "display_data"
    }
   ],
   "source": [
    "def imshow(img):\n",
    "    img = img / 2 + 0.5     # unnormalize\n",
    "    npimg = img.numpy()\n",
    "    plt.imshow(np.transpose(npimg, (1, 2, 0)))\n",
    "\n",
    "\n",
    "# get some random training images\n",
    "dataiter = iter(trainloader)\n",
    "images, labels = dataiter.next()\n",
    "\n",
    "# show images\n",
    "imshow(torchvision.utils.make_grid(images))\n",
    "# print labels\n",
    "print(' '.join('%5s' % classes[labels[j]] for j in range(4)))"
   ]
  },
  {
   "cell_type": "markdown",
   "metadata": {},
   "source": [
    "### Define the model"
   ]
  },
  {
   "cell_type": "code",
   "execution_count": 5,
   "metadata": {},
   "outputs": [],
   "source": [
    "class Cifar10Net(nn.Module):\n",
    "    \n",
    "    \"\"\"\n",
    "        Input is 32x32x1 sized images (CIFAR10)       32x32x3\n",
    "        conv1 6 filters of 5x5, 0 padding, 1 stride   28x28x6\n",
    "        relu                                          28x28x6\n",
    "        pool1 2x2, 2 strides                          14x14x6\n",
    "        conv2 16 filters of 5x5, 0 padding, 1 stride  10x10x16\n",
    "        relu                                          10x10x16\n",
    "        pool2 2x2, 2 strides                           5x5x16\n",
    "        fully connected 120 nodes                         120\n",
    "        fully connected 84 nodes                           84\n",
    "        fully connected 10 nodes                           10 \n",
    "        MSE loss function\n",
    "    \"\"\"\n",
    "    \n",
    "    def __init__(self):\n",
    "        super(Cifar10Net, self).__init__()\n",
    "        \n",
    "        self.conv1 = nn.Conv2d(3, 6, 5, 1)\n",
    "        self.pool1 = nn.MaxPool2d(2, 2)\n",
    "        self.conv2 = nn.Conv2d(6, 16, 5, 1)\n",
    "        self.pool2 = nn.MaxPool2d(2, 2)\n",
    "        self.fc1   = nn.Linear(5*5*16, 120)\n",
    "        self.fc2   = nn.Linear(120, 84)\n",
    "        self.fc3   = nn.Linear(84, 10)\n",
    "        \n",
    "    def forward(self, x):\n",
    "        \n",
    "        x = self.conv1(x)\n",
    "        x = nn.functional.relu(x)\n",
    "        x = self.pool1(x)\n",
    "        \n",
    "        x = self.conv2(x)\n",
    "        x = nn.functional.relu(x)\n",
    "        x = self.pool2(x)\n",
    "        \n",
    "        x = x.view(-1, 16*5*5)\n",
    "        x = self.fc1(x)\n",
    "        x = nn.functional.relu(x)\n",
    "        x = self.fc2(x)\n",
    "        x = nn.functional.relu(x)\n",
    "        x = self.fc3(x)\n",
    "        \n",
    "        return x"
   ]
  },
  {
   "cell_type": "code",
   "execution_count": 6,
   "metadata": {},
   "outputs": [
    {
     "data": {
      "text/plain": [
       "Cifar10Net (\n",
       "  (conv1): Conv2d(3, 6, kernel_size=(5, 5), stride=(1, 1))\n",
       "  (pool1): MaxPool2d (size=(2, 2), stride=(2, 2), dilation=(1, 1))\n",
       "  (conv2): Conv2d(6, 16, kernel_size=(5, 5), stride=(1, 1))\n",
       "  (pool2): MaxPool2d (size=(2, 2), stride=(2, 2), dilation=(1, 1))\n",
       "  (fc1): Linear (400 -> 120)\n",
       "  (fc2): Linear (120 -> 84)\n",
       "  (fc3): Linear (84 -> 10)\n",
       ")"
      ]
     },
     "execution_count": 6,
     "metadata": {},
     "output_type": "execute_result"
    }
   ],
   "source": [
    "net = Cifar10Net()\n",
    "net.cuda()"
   ]
  },
  {
   "cell_type": "markdown",
   "metadata": {},
   "source": [
    "### Loss function and Optimizer"
   ]
  },
  {
   "cell_type": "code",
   "execution_count": 7,
   "metadata": {},
   "outputs": [],
   "source": [
    "criteria = nn.CrossEntropyLoss()\n",
    "optimizer = optim.SGD(net.parameters(), lr=0.001, momentum=0.9)"
   ]
  },
  {
   "cell_type": "markdown",
   "metadata": {},
   "source": [
    "### Training"
   ]
  },
  {
   "cell_type": "code",
   "execution_count": 8,
   "metadata": {},
   "outputs": [
    {
     "name": "stdout",
     "output_type": "stream",
     "text": [
      "Epoch: 0 Batch iteration: 0 Loss: 0.0011646698713302613\n",
      "Epoch: 0 Batch iteration: 2000 Loss: 2.19233014947176\n",
      "Epoch: 0 Batch iteration: 4000 Loss: 1.9517610145509243\n",
      "Epoch: 0 Batch iteration: 6000 Loss: 1.7319014235138892\n",
      "Epoch: 0 Batch iteration: 8000 Loss: 1.6314795060157776\n",
      "Epoch: 0 Batch iteration: 10000 Loss: 1.5368128085136414\n",
      "Epoch: 0 Batch iteration: 12000 Loss: 1.506371664315462\n",
      "Epoch: 1 Batch iteration: 0 Loss: 0.0007953428030014039\n",
      "Epoch: 1 Batch iteration: 2000 Loss: 1.4058183402866125\n",
      "Epoch: 1 Batch iteration: 4000 Loss: 1.414156326904893\n",
      "Epoch: 1 Batch iteration: 6000 Loss: 1.3816630088835955\n",
      "Epoch: 1 Batch iteration: 8000 Loss: 1.3465624429136516\n",
      "Epoch: 1 Batch iteration: 10000 Loss: 1.3411956821382045\n",
      "Epoch: 1 Batch iteration: 12000 Loss: 1.304856601178646\n",
      "Done\n"
     ]
    }
   ],
   "source": [
    "for epoch in range(2):\n",
    "    \n",
    "    epoch_loss = 0.0\n",
    "    for i, batchdata in enumerate(trainloader, 0):\n",
    "        inputs, labels = batchdata\n",
    "        inputs, labels = autograd.Variable(inputs.cuda()), autograd.Variable(labels.cuda())\n",
    "        \n",
    "        optimizer.zero_grad()\n",
    "        output = net(inputs)\n",
    "        loss = criteria(output, labels)\n",
    "        loss.backward()\n",
    "        optimizer.step()\n",
    "        \n",
    "        epoch_loss += loss.data[0]\n",
    "        \n",
    "        if i%2000 == 0:\n",
    "            print('Epoch:', epoch, 'Batch iteration:', i, 'Loss:', epoch_loss/2000)\n",
    "            epoch_loss = 0\n",
    "        \n",
    "        \n",
    "print('Done')"
   ]
  },
  {
   "cell_type": "code",
   "execution_count": 9,
   "metadata": {},
   "outputs": [
    {
     "name": "stdout",
     "output_type": "stream",
     "text": [
      "GroundTruth:  truck  deer   cat  ship\n"
     ]
    },
    {
     "data": {
      "image/png": "[encoded data removed]",
      "text/plain": [
       "<matplotlib.figure.Figure at 0x7f90c8c80780>"
      ]
     },
     "metadata": {},
     "output_type": "display_data"
    }
   ],
   "source": [
    "dataiter = iter(testloader)\n",
    "images, labels = dataiter.next()\n",
    "\n",
    "# print images\n",
    "imshow(torchvision.utils.make_grid(images))\n",
    "print('GroundTruth: ', ' '.join('%5s' % classes[labels[j]] for j in range(4)))"
   ]
  },
  {
   "cell_type": "code",
   "execution_count": 10,
   "metadata": {},
   "outputs": [],
   "source": [
    "outputs = net(autograd.Variable(images.cuda()))"
   ]
  },
  {
   "cell_type": "code",
   "execution_count": 11,
   "metadata": {},
   "outputs": [
    {
     "data": {
      "text/plain": [
       "Variable containing:\n",
       "\n",
       "Columns 0 to 7 \n",
       "  0.5811   0.5465  -2.3466  -0.4063  -3.2168  -2.7278  -3.0205   0.7450\n",
       "  0.0565  -3.1379   2.3913   0.0813   4.1325  -0.2921   0.8013   3.2254\n",
       "  0.9519  -2.4280   1.3961   1.0700   0.5501  -0.2252   1.3723  -0.8677\n",
       "  4.3972   1.0400  -0.6497  -2.3574  -1.4664  -3.9147  -2.9181  -3.3478\n",
       "\n",
       "Columns 8 to 9 \n",
       "  0.5257  10.1008\n",
       " -3.6720  -3.7228\n",
       " -0.5327  -2.0963\n",
       "  7.7759   3.6074\n",
       "[torch.cuda.FloatTensor of size 4x10 (GPU 0)]"
      ]
     },
     "execution_count": 11,
     "metadata": {},
     "output_type": "execute_result"
    }
   ],
   "source": [
    "outputs"
   ]
  },
  {
   "cell_type": "code",
   "execution_count": 12,
   "metadata": {},
   "outputs": [
    {
     "name": "stdout",
     "output_type": "stream",
     "text": [
      "Predicted:  truck  deer  bird  ship\n"
     ]
    }
   ],
   "source": [
    "_, predicted = torch.max(outputs.data, 1)\n",
    "print('Predicted: ', ' '.join('%5s' % classes[predicted[j]] for j in range(4)))"
   ]
  },
  {
   "cell_type": "code",
   "execution_count": 13,
   "metadata": {},
   "outputs": [
    {
     "name": "stdout",
     "output_type": "stream",
     "text": [
      "Accuracy of the network on the 10000 test images: 55 %\n"
     ]
    }
   ],
   "source": [
    "correct = 0\n",
    "total = 0\n",
    "for data in testloader:\n",
    "    images, labels = data\n",
    "    \n",
    "    images = images.cuda()\n",
    "    labels = labels.cuda()\n",
    "    \n",
    "    outputs = net(autograd.Variable(images))\n",
    "    _, predicted = torch.max(outputs.data, 1)\n",
    "    \n",
    "    #print(type(predicted))\n",
    "    #print(type(outputs))\n",
    "    \n",
    "    total += labels.size(0)\n",
    "    correct += (predicted == labels).sum()\n",
    "\n",
    "print('Accuracy of the network on the 10000 test images: %d %%' % (\n",
    "    100 * correct / total))"
   ]
  }
 ],
 "metadata": {
  "kernelspec": {
   "display_name": "Python 3",
   "language": "python",
   "name": "python3"
  },
  "language_info": {
   "codemirror_mode": {
    "name": "ipython",
    "version": 3
   },
   "file_extension": ".py",
   "mimetype": "text/x-python",
   "name": "python",
   "nbconvert_exporter": "python",
   "pygments_lexer": "ipython3",
   "version": "3.6.3"
  }
 },
 "nbformat": 4,
 "nbformat_minor": 2
}
