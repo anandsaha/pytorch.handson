{
 "cells": [
  {
   "attachments": {
    "image.png": {
     "image/png": "[encoded data removed]"
    }
   },
   "cell_type": "markdown",
   "metadata": {},
   "source": [
    "### LeNet\n",
    "\n",
    "Here is the LeNet model tailored for MNIST dataset (28x28x1).\n",
    "The original LeNet had 32x32x1 as input dim.\n",
    "\n",
    "\n",
    "\n",
    "![image.png](attachment:image.png)"
   ]
  },
  {
   "cell_type": "code",
   "execution_count": 1,
   "metadata": {
    "collapsed": true
   },
   "outputs": [],
   "source": [
    "import torch\n",
    "import numpy as np\n",
    "import torch.autograd as ag\n",
    "import torch.nn as nn\n",
    "import torch.optim as optim"
   ]
  },
  {
   "cell_type": "code",
   "execution_count": 2,
   "metadata": {
    "collapsed": true
   },
   "outputs": [],
   "source": [
    "def flatten(x):\n",
    "    # First dimension is the batch size\n",
    "    size = x.size()[1:]\n",
    "    dim = 1\n",
    "    for s in size:\n",
    "        dim *= s\n",
    "    return dim"
   ]
  },
  {
   "cell_type": "markdown",
   "metadata": {},
   "source": [
    "### Create the LetNet model"
   ]
  },
  {
   "cell_type": "code",
   "execution_count": 3,
   "metadata": {
    "collapsed": true
   },
   "outputs": [],
   "source": [
    "class LeNet(nn.Module):\n",
    "    \n",
    "    \"\"\"\n",
    "        Input is 28x28x1 sized images (MNIST)         28x28x1\n",
    "        conv1 6 filters of 5x5, 0 padding, 1 stride   24x24x6\n",
    "        relu                                          24x24x6\n",
    "        pool1 2x2, 2 strides                          12x12x6\n",
    "        conv2 16 filters of 5x5, 0 padding, 1 stride   8x8x16\n",
    "        relu                                           8x8x16\n",
    "        pool2 2x2, 2 strides                           4x4x16\n",
    "        fully connected 120 nodes                         120\n",
    "        fully connected 84 nodes                           84\n",
    "        fully connected 10 nodes                           10 \n",
    "        MSE loss function\n",
    "    \"\"\"\n",
    "    \n",
    "    def __init__(self):\n",
    "        super(LeNet, self).__init__()\n",
    "        \n",
    "        self.conv1 = nn.Conv2d(1, 6, 5, 1)\n",
    "        self.conv2 = nn.Conv2d(6, 16, 5, 1)\n",
    "        self.fc1   = nn.Linear(4*4*16, 120)\n",
    "        self.fc2   = nn.Linear(120, 84)\n",
    "        self.fc3   = nn.Linear(84, 10)\n",
    "        \n",
    "    def forward(self, x):\n",
    "        \n",
    "        x = self.conv1(x)\n",
    "        x = nn.functional.relu(x)\n",
    "        x = nn.functional.max_pool2d(x, 2)\n",
    "        \n",
    "        x = self.conv2(x)\n",
    "        x = nn.functional.relu(x)\n",
    "        x = nn.functional.max_pool2d(x, 2)\n",
    "        \n",
    "        x = x.view(-1, flatten(x))\n",
    "        x = self.fc1(x)\n",
    "        x = nn.functional.relu(x)\n",
    "        x = self.fc2(x)\n",
    "        x = nn.functional.relu(x)\n",
    "        x = self.fc3(x)\n",
    "        \n",
    "        return x\n"
   ]
  },
  {
   "cell_type": "markdown",
   "metadata": {},
   "source": [
    "### Let's check the architecture"
   ]
  },
  {
   "cell_type": "code",
   "execution_count": 4,
   "metadata": {},
   "outputs": [
    {
     "name": "stdout",
     "output_type": "stream",
     "text": [
      "LeNet (\n",
      "  (conv1): Conv2d(1, 6, kernel_size=(5, 5), stride=(1, 1))\n",
      "  (conv2): Conv2d(6, 16, kernel_size=(5, 5), stride=(1, 1))\n",
      "  (fc1): Linear (256 -> 120)\n",
      "  (fc2): Linear (120 -> 84)\n",
      "  (fc3): Linear (84 -> 10)\n",
      ")\n"
     ]
    }
   ],
   "source": [
    "net = LeNet()\n",
    "print(net)"
   ]
  },
  {
   "cell_type": "markdown",
   "metadata": {},
   "source": [
    "### Let's investigate the parameters"
   ]
  },
  {
   "cell_type": "code",
   "execution_count": 5,
   "metadata": {},
   "outputs": [
    {
     "name": "stdout",
     "output_type": "stream",
     "text": [
      "\n",
      "Length of the parameter list is 10\n",
      "\n",
      "Parameters for the 1st conv layer is\n",
      " Parameter containing:\n",
      "(0 ,0 ,.,.) = \n",
      " -0.1101 -0.1576 -0.1445  0.1429  0.1291\n",
      "  0.1099  0.1741  0.1192 -0.1676  0.0967\n",
      " -0.0979 -0.0219  0.0449  0.1861 -0.1898\n",
      "  0.0945  0.0233  0.1191  0.0668  0.0469\n",
      "  0.0921  0.0431 -0.0441  0.0033 -0.1922\n",
      "\n",
      "(1 ,0 ,.,.) = \n",
      "  0.0862  0.0257  0.1356  0.1363  0.1589\n",
      " -0.1375 -0.0498  0.1069 -0.1909  0.0547\n",
      " -0.1923  0.1315  0.1985  0.1675 -0.0481\n",
      "  0.1436 -0.0338 -0.1170 -0.1080 -0.1949\n",
      " -0.0269  0.0247 -0.0654  0.1085 -0.0404\n",
      "\n",
      "(2 ,0 ,.,.) = \n",
      "  0.0889 -0.1719  0.1071 -0.1420 -0.1646\n",
      " -0.0456  0.1253 -0.1838  0.0825  0.0072\n",
      "  0.0142  0.1583  0.0161 -0.1394  0.1415\n",
      "  0.1533  0.0830 -0.0552  0.0860  0.1602\n",
      "  0.1655  0.1914 -0.1647  0.1946  0.1525\n",
      "\n",
      "(3 ,0 ,.,.) = \n",
      "  0.0756 -0.0281  0.0870  0.0202  0.0505\n",
      "  0.0909  0.0350 -0.0757 -0.1729  0.1712\n",
      "  0.1141  0.0856 -0.1287  0.1579  0.0205\n",
      " -0.1382 -0.0530  0.1691 -0.1004  0.1599\n",
      " -0.0132  0.0266  0.0644 -0.1779 -0.1084\n",
      "\n",
      "(4 ,0 ,.,.) = \n",
      " -0.1705  0.1855  0.1225  0.0298 -0.1411\n",
      " -0.0928 -0.0377 -0.0053 -0.1423 -0.0482\n",
      " -0.1934  0.1661  0.0998  0.0590  0.0867\n",
      " -0.0209  0.0704 -0.0806  0.0330  0.1782\n",
      "  0.1476 -0.1520  0.1764 -0.0977  0.1924\n",
      "\n",
      "(5 ,0 ,.,.) = \n",
      " -0.0672  0.1556  0.1258  0.0333 -0.0434\n",
      " -0.1249  0.0723  0.1357  0.0095  0.1764\n",
      "  0.0305 -0.1216  0.1577  0.0532  0.1574\n",
      "  0.0729  0.0028 -0.0366 -0.0780  0.1129\n",
      " -0.0551  0.1164  0.0210 -0.0469  0.1177\n",
      "[torch.FloatTensor of size 6x1x5x5]\n",
      "\n"
     ]
    }
   ],
   "source": [
    "params = list(net.parameters())\n",
    "print('\\nLength of the parameter list is', len(params))\n",
    "print('\\nParameters for the 1st conv layer is\\n', params[0])"
   ]
  },
  {
   "cell_type": "markdown",
   "metadata": {},
   "source": [
    "### Let's inject some dummy data and investigate the output"
   ]
  },
  {
   "cell_type": "code",
   "execution_count": 6,
   "metadata": {},
   "outputs": [
    {
     "name": "stdout",
     "output_type": "stream",
     "text": [
      "[[ 0.04219276  0.09067416 -0.0250597  -0.04908771  0.10755441  0.12973978\n",
      "   0.00575662  0.09346917 -0.0709964  -0.03147947]]\n"
     ]
    }
   ],
   "source": [
    "dummy_input = ag.Variable(torch.rand(1, 1, 28, 28))\n",
    "out = net(dummy_input)\n",
    "print(out.data.numpy()) # we should get 10 numbers"
   ]
  },
  {
   "cell_type": "markdown",
   "metadata": {},
   "source": [
    "### Let's do a backward pass with dummy data"
   ]
  },
  {
   "cell_type": "code",
   "execution_count": 7,
   "metadata": {},
   "outputs": [
    {
     "data": {
      "text/plain": [
       "Variable containing:\n",
       "1.00000e-02 *\n",
       "  5.0826\n",
       " -1.2522\n",
       " -9.8442\n",
       "  4.1426\n",
       " -1.5731\n",
       " -3.8071\n",
       "[torch.FloatTensor of size 6]"
      ]
     },
     "execution_count": 7,
     "metadata": {},
     "output_type": "execute_result"
    }
   ],
   "source": [
    "net.zero_grad()\n",
    "inp = ag.Variable(torch.randn(1, 10))\n",
    "out.backward(inp)\n",
    "net.conv1.bias.grad"
   ]
  },
  {
   "cell_type": "markdown",
   "metadata": {},
   "source": [
    "### Let's add a loss function"
   ]
  },
  {
   "cell_type": "code",
   "execution_count": 8,
   "metadata": {},
   "outputs": [
    {
     "name": "stdout",
     "output_type": "stream",
     "text": [
      "Variable containing:\n",
      " 38.2760\n",
      "[torch.FloatTensor of size 1]\n",
      "\n"
     ]
    }
   ],
   "source": [
    "dummy_input = ag.Variable(torch.rand(1, 1, 28, 28)) # input\n",
    "out = net(dummy_input)\n",
    "target = ag.Variable(torch.arange(1, 11)) # dummy target\n",
    "criteria = nn.MSELoss()\n",
    "loss = criteria(out, target)\n",
    "print(loss)"
   ]
  },
  {
   "cell_type": "markdown",
   "metadata": {},
   "source": [
    "Check the gradient function chain"
   ]
  },
  {
   "cell_type": "code",
   "execution_count": 9,
   "metadata": {},
   "outputs": [
    {
     "name": "stdout",
     "output_type": "stream",
     "text": [
      "<torch.autograd.function.MSELossBackward object at 0x7f8a199586d8>\n",
      "<torch.autograd.function.AddmmBackward object at 0x7f8a0c1ad048>\n",
      "<AccumulateGrad object at 0x7f8a1993e208>\n"
     ]
    }
   ],
   "source": [
    "print(loss.grad_fn)\n",
    "print(loss.grad_fn.next_functions[0][0])\n",
    "print(loss.grad_fn.next_functions[0][0].next_functions[0][0])"
   ]
  },
  {
   "cell_type": "markdown",
   "metadata": {},
   "source": [
    "### Backpropagation"
   ]
  },
  {
   "cell_type": "code",
   "execution_count": 10,
   "metadata": {},
   "outputs": [
    {
     "name": "stdout",
     "output_type": "stream",
     "text": [
      "conv1.bias.grad before backward\n",
      "Variable containing:\n",
      " 0\n",
      " 0\n",
      " 0\n",
      " 0\n",
      " 0\n",
      " 0\n",
      "[torch.FloatTensor of size 6]\n",
      "\n",
      "conv1.bias.grad after backward\n",
      "Variable containing:\n",
      "1.00000e-02 *\n",
      " -1.8604\n",
      "  1.1379\n",
      " -0.5392\n",
      " -4.2463\n",
      "  5.7314\n",
      "  2.4256\n",
      "[torch.FloatTensor of size 6]\n",
      "\n"
     ]
    }
   ],
   "source": [
    "net.zero_grad()     # zeroes the gradient buffers of all parameters\n",
    "\n",
    "print('conv1.bias.grad before backward')\n",
    "print(net.conv1.bias.grad)\n",
    "\n",
    "loss.backward()\n",
    "\n",
    "print('conv1.bias.grad after backward')\n",
    "print(net.conv1.bias.grad)"
   ]
  },
  {
   "cell_type": "markdown",
   "metadata": {},
   "source": [
    "### Weights update"
   ]
  },
  {
   "cell_type": "code",
   "execution_count": 11,
   "metadata": {
    "collapsed": true
   },
   "outputs": [],
   "source": [
    "learning_rate = 0.01\n",
    "for f in net.parameters():\n",
    "    f.data.sub_(f.grad.data * learning_rate)"
   ]
  },
  {
   "cell_type": "markdown",
   "metadata": {},
   "source": [
    "OR"
   ]
  },
  {
   "cell_type": "code",
   "execution_count": 14,
   "metadata": {
    "collapsed": true
   },
   "outputs": [],
   "source": [
    "net1 = LeNet()\n",
    "optimizer = optim.SGD(net1.parameters(), lr=0.01)\n",
    "optimizer.zero_grad()\n",
    "dummy_input = ag.Variable(torch.rand(1, 1, 28, 28)) # input\n",
    "output = net1(dummy_input)\n",
    "target = ag.Variable(torch.arange(1, 11)) # dummy target\n",
    "criteria = nn.MSELoss()\n",
    "loss = criteria(output, target)\n",
    "loss.backward(retain_graph=True)\n",
    "optimizer.step() # Do the parameter update"
   ]
  },
  {
   "cell_type": "code",
   "execution_count": 13,
   "metadata": {},
   "outputs": [
    {
     "data": {
      "text/plain": [
       "Variable containing:\n",
       " 38.2336\n",
       "[torch.FloatTensor of size 1]"
      ]
     },
     "execution_count": 13,
     "metadata": {},
     "output_type": "execute_result"
    }
   ],
   "source": [
    "loss"
   ]
  }
 ],
 "metadata": {
  "kernelspec": {
   "display_name": "Python 3",
   "language": "python",
   "name": "python3"
  },
  "language_info": {
   "codemirror_mode": {
    "name": "ipython",
    "version": 3
   },
   "file_extension": ".py",
   "mimetype": "text/x-python",
   "name": "python",
   "nbconvert_exporter": "python",
   "pygments_lexer": "ipython3",
   "version": "3.6.3"
  }
 },
 "nbformat": 4,
 "nbformat_minor": 2
}
