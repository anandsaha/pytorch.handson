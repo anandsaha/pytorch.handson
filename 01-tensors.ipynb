{
 "cells": [
  {
   "cell_type": "markdown",
   "metadata": {},
   "source": [
    "### Let's experiment with Tensors"
   ]
  },
  {
   "cell_type": "code",
   "execution_count": 1,
   "metadata": {},
   "outputs": [],
   "source": [
    "import torch\n",
    "import numpy as np\n",
    "import warnings\n",
    "\n",
    "warnings.filterwarnings('ignore')"
   ]
  },
  {
   "cell_type": "code",
   "execution_count": 2,
   "metadata": {},
   "outputs": [
    {
     "name": "stdout",
     "output_type": "stream",
     "text": [
      "\n",
      "1.00000e-18 *\n",
      "  1.0447  0.0000  1.0447  0.0000  0.0000\n",
      "  0.0000  0.0000  0.0000  0.0000  0.0000\n",
      "  0.0000  0.0000  0.0000  0.0000  0.0000\n",
      "[torch.FloatTensor of size 3x5]\n",
      "\n"
     ]
    }
   ],
   "source": [
    "# Uninitialized tensor\n",
    "t = torch.Tensor(3, 5)\n",
    "print(t)"
   ]
  },
  {
   "cell_type": "code",
   "execution_count": 3,
   "metadata": {},
   "outputs": [],
   "source": [
    "# Randomly initialized tensor\n",
    "x = torch.rand(3, 4)\n",
    "y = torch.rand(3, 4)"
   ]
  },
  {
   "cell_type": "code",
   "execution_count": 4,
   "metadata": {},
   "outputs": [
    {
     "name": "stdout",
     "output_type": "stream",
     "text": [
      "\n",
      " 0.5969  0.9265  0.1129  0.8335\n",
      " 0.9743  0.2025  0.8706  0.3209\n",
      " 0.0675  0.5771  0.5544  0.4379\n",
      "[torch.FloatTensor of size 3x4]\n",
      "\n",
      "torch.Size([3, 4])\n",
      "3 4\n"
     ]
    }
   ],
   "source": [
    "print(x) # The tensor\n",
    "print(x.size()) # The dimensions\n",
    "sz = x.size() # The dimensions, extracted\n",
    "print(sz[0], sz[1])"
   ]
  },
  {
   "cell_type": "markdown",
   "metadata": {},
   "source": [
    "### Tensor Operations"
   ]
  },
  {
   "cell_type": "code",
   "execution_count": 5,
   "metadata": {},
   "outputs": [
    {
     "data": {
      "text/plain": [
       "\n",
       " 1.4680  1.7270  0.9571  1.6094\n",
       " 1.8722  0.2899  1.8050  1.1452\n",
       " 0.6746  0.8315  0.7830  1.3243\n",
       "[torch.FloatTensor of size 3x4]"
      ]
     },
     "execution_count": 5,
     "metadata": {},
     "output_type": "execute_result"
    }
   ],
   "source": [
    "# Add using operator\n",
    "torch.add(x, y)"
   ]
  },
  {
   "cell_type": "code",
   "execution_count": 6,
   "metadata": {},
   "outputs": [
    {
     "name": "stdout",
     "output_type": "stream",
     "text": [
      "\n",
      " 1.4680  1.7270  0.9571  1.6094\n",
      " 1.8722  0.2899  1.8050  1.1452\n",
      " 0.6746  0.8315  0.7830  1.3243\n",
      "[torch.FloatTensor of size 3x4]\n",
      "\n"
     ]
    }
   ],
   "source": [
    "# Another way\n",
    "result = torch.Tensor(x.shape)\n",
    "torch.add(x, y, out=result)\n",
    "print(result)"
   ]
  },
  {
   "cell_type": "code",
   "execution_count": 7,
   "metadata": {},
   "outputs": [
    {
     "data": {
      "text/plain": [
       "\n",
       " 1.4680  1.7270  0.9571  1.6094\n",
       " 1.8722  0.2899  1.8050  1.1452\n",
       " 0.6746  0.8315  0.7830  1.3243\n",
       "[torch.FloatTensor of size 3x4]"
      ]
     },
     "execution_count": 7,
     "metadata": {},
     "output_type": "execute_result"
    }
   ],
   "source": [
    "# Add in place\n",
    "y_copy = torch.Tensor(y.shape)\n",
    "y_copy.copy_(y)\n",
    "y_copy.add_(x)\n",
    "y_copy"
   ]
  },
  {
   "cell_type": "markdown",
   "metadata": {},
   "source": [
    "### Indexing"
   ]
  },
  {
   "cell_type": "code",
   "execution_count": 8,
   "metadata": {},
   "outputs": [
    {
     "data": {
      "text/plain": [
       "\n",
       " 0.5969\n",
       " 0.9743\n",
       " 0.0675\n",
       "[torch.FloatTensor of size 3]"
      ]
     },
     "execution_count": 8,
     "metadata": {},
     "output_type": "execute_result"
    }
   ],
   "source": [
    "x[:, 0]"
   ]
  },
  {
   "cell_type": "code",
   "execution_count": 9,
   "metadata": {},
   "outputs": [
    {
     "data": {
      "text/plain": [
       "\n",
       " 0.5969\n",
       " 0.9265\n",
       " 0.1129\n",
       " 0.8335\n",
       "[torch.FloatTensor of size 4]"
      ]
     },
     "execution_count": 9,
     "metadata": {},
     "output_type": "execute_result"
    }
   ],
   "source": [
    "x[0, :]"
   ]
  },
  {
   "cell_type": "markdown",
   "metadata": {},
   "source": [
    "### Other operations"
   ]
  },
  {
   "cell_type": "code",
   "execution_count": 10,
   "metadata": {},
   "outputs": [
    {
     "data": {
      "text/plain": [
       "True"
      ]
     },
     "execution_count": 10,
     "metadata": {},
     "output_type": "execute_result"
    }
   ],
   "source": [
    "torch.is_tensor(x)"
   ]
  },
  {
   "cell_type": "code",
   "execution_count": 11,
   "metadata": {},
   "outputs": [
    {
     "data": {
      "text/plain": [
       "False"
      ]
     },
     "execution_count": 11,
     "metadata": {},
     "output_type": "execute_result"
    }
   ],
   "source": [
    "torch.is_tensor(None)"
   ]
  },
  {
   "cell_type": "code",
   "execution_count": 12,
   "metadata": {},
   "outputs": [
    {
     "data": {
      "text/plain": [
       "12"
      ]
     },
     "execution_count": 12,
     "metadata": {},
     "output_type": "execute_result"
    }
   ],
   "source": [
    "torch.numel(x) # Total number of elements (3 x 4)"
   ]
  },
  {
   "cell_type": "code",
   "execution_count": 13,
   "metadata": {},
   "outputs": [
    {
     "data": {
      "text/plain": [
       "\n",
       " 1  0  0  0  0\n",
       " 0  1  0  0  0\n",
       " 0  0  1  0  0\n",
       " 0  0  0  1  0\n",
       " 0  0  0  0  1\n",
       "[torch.FloatTensor of size 5x5]"
      ]
     },
     "execution_count": 13,
     "metadata": {},
     "output_type": "execute_result"
    }
   ],
   "source": [
    "torch.eye(5) # Square tensor with 1's in diagonal, 0's everywhere else"
   ]
  },
  {
   "cell_type": "code",
   "execution_count": 14,
   "metadata": {},
   "outputs": [
    {
     "data": {
      "text/plain": [
       "\n",
       " 1\n",
       " 2\n",
       " 3\n",
       "[torch.LongTensor of size 3]"
      ]
     },
     "execution_count": 14,
     "metadata": {},
     "output_type": "execute_result"
    }
   ],
   "source": [
    "torch.from_numpy(np.array([1, 2, 3])) # Tensor from numpy array"
   ]
  },
  {
   "cell_type": "code",
   "execution_count": 15,
   "metadata": {},
   "outputs": [
    {
     "data": {
      "text/plain": [
       "\n",
       "  0.0000\n",
       "  3.3333\n",
       "  6.6667\n",
       " 10.0000\n",
       "[torch.FloatTensor of size 4]"
      ]
     },
     "execution_count": 15,
     "metadata": {},
     "output_type": "execute_result"
    }
   ],
   "source": [
    "# Returns a one-dimensional Tensor of steps equally spaced points between start and end\n",
    "torch.linspace(0, 10, 4)"
   ]
  },
  {
   "cell_type": "code",
   "execution_count": 16,
   "metadata": {},
   "outputs": [
    {
     "data": {
      "text/plain": [
       "\n",
       " 1.0000e-10\n",
       " 1.0000e-05\n",
       " 1.0000e+00\n",
       " 1.0000e+05\n",
       " 1.0000e+10\n",
       "[torch.FloatTensor of size 5]"
      ]
     },
     "execution_count": 16,
     "metadata": {},
     "output_type": "execute_result"
    }
   ],
   "source": [
    "torch.logspace(-10, 10, 5)"
   ]
  },
  {
   "cell_type": "code",
   "execution_count": 17,
   "metadata": {},
   "outputs": [
    {
     "data": {
      "text/plain": [
       "\n",
       " 1  1  1  1\n",
       " 1  1  1  1\n",
       " 1  1  1  1\n",
       "[torch.FloatTensor of size 3x4]"
      ]
     },
     "execution_count": 17,
     "metadata": {},
     "output_type": "execute_result"
    }
   ],
   "source": [
    "torch.ones(3, 4)"
   ]
  },
  {
   "cell_type": "code",
   "execution_count": 18,
   "metadata": {},
   "outputs": [
    {
     "data": {
      "text/plain": [
       "\n",
       " 1\n",
       " 3\n",
       " 5\n",
       " 7\n",
       " 9\n",
       "[torch.FloatTensor of size 5]"
      ]
     },
     "execution_count": 18,
     "metadata": {},
     "output_type": "execute_result"
    }
   ],
   "source": [
    "torch.arange(1, 11, 2)"
   ]
  },
  {
   "cell_type": "code",
   "execution_count": 19,
   "metadata": {},
   "outputs": [
    {
     "data": {
      "text/plain": [
       "\n",
       "  1\n",
       "  3\n",
       "  5\n",
       "  7\n",
       "  9\n",
       " 11\n",
       "[torch.FloatTensor of size 6]"
      ]
     },
     "execution_count": 19,
     "metadata": {},
     "output_type": "execute_result"
    }
   ],
   "source": [
    "torch.range(1, 11, 2)"
   ]
  },
  {
   "cell_type": "code",
   "execution_count": 20,
   "metadata": {},
   "outputs": [
    {
     "data": {
      "text/plain": [
       "\n",
       " 0  0  0  0\n",
       " 0  0  0  0\n",
       " 0  0  0  0\n",
       "[torch.FloatTensor of size 3x4]"
      ]
     },
     "execution_count": 20,
     "metadata": {},
     "output_type": "execute_result"
    }
   ],
   "source": [
    "torch.zeros(3, 4)"
   ]
  },
  {
   "cell_type": "code",
   "execution_count": 21,
   "metadata": {},
   "outputs": [
    {
     "name": "stdout",
     "output_type": "stream",
     "text": [
      "\n",
      " 0.5969  0.9265  0.1129  0.8335\n",
      " 0.9743  0.2025  0.8706  0.3209\n",
      " 0.0675  0.5771  0.5544  0.4379\n",
      "[torch.FloatTensor of size 3x4]\n",
      "\n"
     ]
    },
    {
     "data": {
      "text/plain": [
       "\n",
       " 0.5969\n",
       " 0.9265\n",
       " 0.1129\n",
       " 0.8335\n",
       " 0.9743\n",
       " 0.2025\n",
       " 0.8706\n",
       " 0.3209\n",
       " 0.0675\n",
       " 0.5771\n",
       " 0.5544\n",
       " 0.4379\n",
       "[torch.FloatTensor of size 12]"
      ]
     },
     "execution_count": 21,
     "metadata": {},
     "output_type": "execute_result"
    }
   ],
   "source": [
    "print(x)\n",
    "torch.cat(x, 0)"
   ]
  },
  {
   "cell_type": "code",
   "execution_count": 22,
   "metadata": {},
   "outputs": [
    {
     "name": "stdout",
     "output_type": "stream",
     "text": [
      "\n",
      " 0.5901  0.3419  0.2281  0.4410  0.4560\n",
      " 0.4548  0.9110  0.3792  0.6203  0.0244\n",
      " 0.6018  0.1295  0.9467  0.6211  0.5993\n",
      " 0.4996  0.4015  0.3415  0.3188  0.9222\n",
      " 0.7217  0.4408  0.2671  0.8976  0.0037\n",
      "[torch.FloatTensor of size 5x5]\n",
      "\n"
     ]
    },
    {
     "data": {
      "text/plain": [
       "(\n",
       "  0.5901  0.3419  0.2281  0.4410  0.4560\n",
       " [torch.FloatTensor of size 1x5], \n",
       "  0.4548  0.9110  0.3792  0.6203  0.0244\n",
       " [torch.FloatTensor of size 1x5], \n",
       "  0.6018  0.1295  0.9467  0.6211  0.5993\n",
       " [torch.FloatTensor of size 1x5], \n",
       "  0.4996  0.4015  0.3415  0.3188  0.9222\n",
       " [torch.FloatTensor of size 1x5], \n",
       "  0.7217  0.4408  0.2671  0.8976  0.0037\n",
       " [torch.FloatTensor of size 1x5])"
      ]
     },
     "execution_count": 22,
     "metadata": {},
     "output_type": "execute_result"
    }
   ],
   "source": [
    "# Chunk a tensor into pieces\n",
    "z = torch.rand(5, 5)\n",
    "print(z)\n",
    "torch.chunk(z, 5, 0)"
   ]
  },
  {
   "cell_type": "code",
   "execution_count": 23,
   "metadata": {
    "collapsed": true
   },
   "outputs": [],
   "source": [
    "# torch.gather()"
   ]
  },
  {
   "cell_type": "code",
   "execution_count": 24,
   "metadata": {},
   "outputs": [
    {
     "name": "stdout",
     "output_type": "stream",
     "text": [
      "Original \n",
      " 0.5969  0.9265  0.1129  0.8335\n",
      " 0.9743  0.2025  0.8706  0.3209\n",
      " 0.0675  0.5771  0.5544  0.4379\n",
      "[torch.FloatTensor of size 3x4]\n",
      "\n",
      "Along rows \n",
      " 0.5969  0.9265  0.1129  0.8335\n",
      " 0.0675  0.5771  0.5544  0.4379\n",
      "[torch.FloatTensor of size 2x4]\n",
      "\n",
      "Along cols \n",
      " 0.5969  0.1129\n",
      " 0.9743  0.8706\n",
      " 0.0675  0.5544\n",
      "[torch.FloatTensor of size 3x2]\n",
      "\n"
     ]
    }
   ],
   "source": [
    "indices = torch.LongTensor([0, 2])\n",
    "print('Original', x)\n",
    "print('Along rows', torch.index_select(x, 0, indices))\n",
    "print('Along cols', torch.index_select(x, 1, indices))"
   ]
  },
  {
   "cell_type": "code",
   "execution_count": 25,
   "metadata": {},
   "outputs": [
    {
     "name": "stdout",
     "output_type": "stream",
     "text": [
      "The mask \n",
      " 1  1  0  1\n",
      " 1  0  1  0\n",
      " 0  1  1  0\n",
      "[torch.ByteTensor of size 3x4]\n",
      "\n"
     ]
    },
    {
     "data": {
      "text/plain": [
       "\n",
       " 0.5969\n",
       " 0.9265\n",
       " 0.8335\n",
       " 0.9743\n",
       " 0.8706\n",
       " 0.5771\n",
       " 0.5544\n",
       "[torch.FloatTensor of size 7]"
      ]
     },
     "execution_count": 25,
     "metadata": {},
     "output_type": "execute_result"
    }
   ],
   "source": [
    "mask = x.ge(0.5) # Select the elements where mask is 1\n",
    "print('The mask', mask)\n",
    "torch.masked_select(x, mask)"
   ]
  },
  {
   "cell_type": "code",
   "execution_count": 26,
   "metadata": {},
   "outputs": [
    {
     "name": "stdout",
     "output_type": "stream",
     "text": [
      "\n",
      " 1  0  0  0\n",
      " 0  1  0  0\n",
      " 0  0  1  0\n",
      "[torch.FloatTensor of size 3x4]\n",
      "\n"
     ]
    },
    {
     "data": {
      "text/plain": [
       "\n",
       " 0  0\n",
       " 1  1\n",
       " 2  2\n",
       "[torch.LongTensor of size 3x2]"
      ]
     },
     "execution_count": 26,
     "metadata": {},
     "output_type": "execute_result"
    }
   ],
   "source": [
    "# Give me indices of the non zero elements of a tensor\n",
    "e = torch.eye(3, 4)\n",
    "print(e)\n",
    "torch.nonzero(e)"
   ]
  },
  {
   "cell_type": "code",
   "execution_count": 27,
   "metadata": {},
   "outputs": [
    {
     "data": {
      "text/plain": [
       "(\n",
       "  0.1084  0.0051  0.2124  0.5762  0.6858  0.3989\n",
       "  0.4126  0.4021  0.9024  0.2381  0.4204  0.1967\n",
       " [torch.FloatTensor of size 2x6], \n",
       "  0.4063  0.7265  0.1610  0.0862  0.4616  0.5063\n",
       "  0.9025  0.1303  0.2723  0.9470  0.2491  0.3116\n",
       " [torch.FloatTensor of size 2x6], \n",
       "  0.7363  0.7540  0.8414  0.6235  0.4453  0.1643\n",
       "  0.8306  0.8280  0.4319  0.5232  0.1257  0.6168\n",
       " [torch.FloatTensor of size 2x6])"
      ]
     },
     "execution_count": 27,
     "metadata": {},
     "output_type": "execute_result"
    }
   ],
   "source": [
    "# Split tensor into equal sized chunks\n",
    "torch.split(torch.rand(6, 6), 2)"
   ]
  },
  {
   "cell_type": "code",
   "execution_count": 28,
   "metadata": {},
   "outputs": [
    {
     "name": "stdout",
     "output_type": "stream",
     "text": [
      "torch.Size([1, 2, 2])\n"
     ]
    },
    {
     "data": {
      "text/plain": [
       "\n",
       " 1  2\n",
       " 3  4\n",
       "[torch.LongTensor of size 2x2]"
      ]
     },
     "execution_count": 28,
     "metadata": {},
     "output_type": "execute_result"
    }
   ],
   "source": [
    "z = torch.from_numpy(np.array([[[1, 2], [3, 4]]]))\n",
    "print(z.shape)\n",
    "torch.squeeze(z)"
   ]
  },
  {
   "cell_type": "code",
   "execution_count": 29,
   "metadata": {},
   "outputs": [
    {
     "name": "stdout",
     "output_type": "stream",
     "text": [
      "a & b \n",
      " 0.4067  0.5746\n",
      " 0.0374  0.5923\n",
      "[torch.FloatTensor of size 2x2]\n",
      " \n",
      " 0.8292  0.5833\n",
      " 0.0312  0.6952\n",
      "[torch.FloatTensor of size 2x2]\n",
      "\n",
      "vertical stack .......... \n",
      "(0 ,.,.) = \n",
      "  0.4067  0.5746\n",
      "  0.0374  0.5923\n",
      "\n",
      "(1 ,.,.) = \n",
      "  0.8292  0.5833\n",
      "  0.0312  0.6952\n",
      "[torch.FloatTensor of size 2x2x2]\n",
      "\n",
      "horizontal stack .......... \n",
      "(0 ,.,.) = \n",
      "  0.4067  0.5746\n",
      "  0.8292  0.5833\n",
      "\n",
      "(1 ,.,.) = \n",
      "  0.0374  0.5923\n",
      "  0.0312  0.6952\n",
      "[torch.FloatTensor of size 2x2x2]\n",
      "\n"
     ]
    }
   ],
   "source": [
    "a = torch.rand(2, 2)\n",
    "b = torch.rand(2, 2)\n",
    "print('a & b', a, b)\n",
    "print('vertical stack ..........', torch.stack([a, b], 0))\n",
    "print('horizontal stack ..........', torch.stack([a, b], 1))"
   ]
  },
  {
   "cell_type": "code",
   "execution_count": 30,
   "metadata": {},
   "outputs": [
    {
     "name": "stdout",
     "output_type": "stream",
     "text": [
      "\n",
      " 0.5969  0.9265  0.1129  0.8335\n",
      " 0.9743  0.2025  0.8706  0.3209\n",
      " 0.0675  0.5771  0.5544  0.4379\n",
      "[torch.FloatTensor of size 3x4]\n",
      "\n"
     ]
    },
    {
     "data": {
      "text/plain": [
       "\n",
       " 0.5969  0.9743  0.0675\n",
       " 0.9265  0.2025  0.5771\n",
       " 0.1129  0.8706  0.5544\n",
       " 0.8335  0.3209  0.4379\n",
       "[torch.FloatTensor of size 4x3]"
      ]
     },
     "execution_count": 30,
     "metadata": {},
     "output_type": "execute_result"
    }
   ],
   "source": [
    "# Transpose\n",
    "print(x)\n",
    "torch.t(x) # same as .transpose"
   ]
  },
  {
   "cell_type": "code",
   "execution_count": 31,
   "metadata": {},
   "outputs": [
    {
     "data": {
      "text/plain": [
       "(\n",
       "  1\n",
       "  4\n",
       " [torch.FloatTensor of size 2], \n",
       "  2\n",
       "  5\n",
       " [torch.FloatTensor of size 2], \n",
       "  3\n",
       "  6\n",
       " [torch.FloatTensor of size 2])"
      ]
     },
     "execution_count": 31,
     "metadata": {},
     "output_type": "execute_result"
    }
   ],
   "source": [
    "z = torch.Tensor([[1, 2, 3], [4, 5, 6]])\n",
    "torch.unbind(z, 1)"
   ]
  },
  {
   "cell_type": "code",
   "execution_count": 32,
   "metadata": {
    "collapsed": true
   },
   "outputs": [],
   "source": [
    "# torch.unsqueeze()"
   ]
  },
  {
   "cell_type": "markdown",
   "metadata": {},
   "source": [
    "Random Sampling"
   ]
  },
  {
   "cell_type": "code",
   "execution_count": 33,
   "metadata": {},
   "outputs": [
    {
     "data": {
      "text/plain": [
       "<torch._C.Generator at 0x7fec1401d318>"
      ]
     },
     "execution_count": 33,
     "metadata": {},
     "output_type": "execute_result"
    }
   ],
   "source": [
    "torch.manual_seed(42)"
   ]
  },
  {
   "cell_type": "code",
   "execution_count": 34,
   "metadata": {},
   "outputs": [
    {
     "name": "stdout",
     "output_type": "stream",
     "text": [
      "\n",
      " 0.3745  0.7965  0.9507\n",
      " 0.1834  0.7320  0.7797\n",
      " 0.5987  0.5969  0.1560\n",
      "[torch.FloatTensor of size 3x3]\n",
      "\n"
     ]
    },
    {
     "data": {
      "text/plain": [
       "\n",
       " 0  1  1\n",
       " 1  1  0\n",
       " 1  0  1\n",
       "[torch.FloatTensor of size 3x3]"
      ]
     },
     "execution_count": 34,
     "metadata": {},
     "output_type": "execute_result"
    }
   ],
   "source": [
    "a = torch.Tensor(3, 3).uniform_(0, 1)\n",
    "print(a)\n",
    "torch.bernoulli(a)"
   ]
  },
  {
   "cell_type": "code",
   "execution_count": 35,
   "metadata": {},
   "outputs": [
    {
     "data": {
      "text/plain": [
       "\n",
       " 0.9622\n",
       "-1.7004\n",
       "[torch.FloatTensor of size 2]"
      ]
     },
     "execution_count": 35,
     "metadata": {},
     "output_type": "execute_result"
    }
   ],
   "source": [
    "torch.normal(means=torch.Tensor([1, -1]), std=torch.Tensor([0.1, 0.5]))"
   ]
  },
  {
   "cell_type": "code",
   "execution_count": 36,
   "metadata": {},
   "outputs": [
    {
     "data": {
      "text/plain": [
       "\n",
       " 1.3379\n",
       " 2.0440\n",
       " 4.5716\n",
       " 3.6993\n",
       " 6.1695\n",
       "[torch.FloatTensor of size 5]"
      ]
     },
     "execution_count": 36,
     "metadata": {},
     "output_type": "execute_result"
    }
   ],
   "source": [
    "torch.normal(means=torch.arange(1, 6))"
   ]
  },
  {
   "cell_type": "markdown",
   "metadata": {},
   "source": [
    "### Serialization"
   ]
  },
  {
   "cell_type": "code",
   "execution_count": 37,
   "metadata": {
    "collapsed": true
   },
   "outputs": [],
   "source": [
    "# Save an object to disk\n",
    "torch.save(x, '/tmp/x.pkl')"
   ]
  },
  {
   "cell_type": "code",
   "execution_count": 38,
   "metadata": {},
   "outputs": [
    {
     "data": {
      "text/plain": [
       "\n",
       " 0.5969  0.9265  0.1129  0.8335\n",
       " 0.9743  0.2025  0.8706  0.3209\n",
       " 0.0675  0.5771  0.5544  0.4379\n",
       "[torch.FloatTensor of size 3x4]"
      ]
     },
     "execution_count": 38,
     "metadata": {},
     "output_type": "execute_result"
    }
   ],
   "source": [
    "x_restore = torch.load('/tmp/x.pkl')\n",
    "x_restore"
   ]
  },
  {
   "cell_type": "markdown",
   "metadata": {},
   "source": [
    "### Between Torch and Numpy"
   ]
  },
  {
   "cell_type": "code",
   "execution_count": 39,
   "metadata": {},
   "outputs": [
    {
     "data": {
      "text/plain": [
       "array([[ 1.,  1.,  1.],\n",
       "       [ 1.,  1.,  1.],\n",
       "       [ 1.,  1.,  1.]], dtype=float32)"
      ]
     },
     "execution_count": 39,
     "metadata": {},
     "output_type": "execute_result"
    }
   ],
   "source": [
    "t = torch.ones(3, 3)\n",
    "t.numpy()"
   ]
  },
  {
   "cell_type": "code",
   "execution_count": 40,
   "metadata": {},
   "outputs": [
    {
     "name": "stdout",
     "output_type": "stream",
     "text": [
      "\n",
      " 1\n",
      " 2\n",
      "[torch.LongTensor of size 2]\n",
      "\n"
     ]
    }
   ],
   "source": [
    "arr = np.array([1, 2])\n",
    "arr_t = torch.from_numpy(arr)\n",
    "print(arr_t)"
   ]
  },
  {
   "cell_type": "markdown",
   "metadata": {},
   "source": [
    "### Moving tensors to CUDA - measure performance difference"
   ]
  },
  {
   "cell_type": "code",
   "execution_count": 41,
   "metadata": {
    "collapsed": true
   },
   "outputs": [],
   "source": [
    "import datetime"
   ]
  },
  {
   "cell_type": "code",
   "execution_count": 45,
   "metadata": {},
   "outputs": [
    {
     "name": "stdout",
     "output_type": "stream",
     "text": [
      "False False\n",
      "On CPU: 0:00:00.039334\n",
      "GPU detected\n",
      "True True\n",
      "On GPU: 0:00:00.000268\n"
     ]
    }
   ],
   "source": [
    "z1 = torch.rand(5000, 10000)\n",
    "z2 = torch.rand(5000, 10000)\n",
    "print(z1.is_cuda, z2.is_cuda)\n",
    "\n",
    "a = datetime.datetime.now()\n",
    "z = z1 + z2\n",
    "b = datetime.datetime.now()\n",
    "print('On CPU:', b - a)\n",
    "\n",
    "\n",
    "if torch.cuda.is_available():\n",
    "    print('GPU detected')\n",
    "    z1 = z1.cuda()\n",
    "    z2 = z2.cuda()\n",
    "    print(z1.is_cuda, z2.is_cuda)\n",
    "    a = datetime.datetime.now()\n",
    "    z = z1 + z2\n",
    "    b = datetime.datetime.now()\n",
    "    print('On GPU:', b - a)\n",
    "    "
   ]
  }
 ],
 "metadata": {
  "kernelspec": {
   "display_name": "Python 3",
   "language": "python",
   "name": "python3"
  },
  "language_info": {
   "codemirror_mode": {
    "name": "ipython",
    "version": 3
   },
   "file_extension": ".py",
   "mimetype": "text/x-python",
   "name": "python",
   "nbconvert_exporter": "python",
   "pygments_lexer": "ipython3",
   "version": "3.6.3"
  }
 },
 "nbformat": 4,
 "nbformat_minor": 2
}
